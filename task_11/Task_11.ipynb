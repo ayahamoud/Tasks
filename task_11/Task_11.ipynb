{
 "cells": [
  {
   "cell_type": "code",
   "execution_count": null,
   "id": "3b31f643",
   "metadata": {},
   "outputs": [],
   "source": [
    "import string\n",
    "\n",
    "def substitution_cipher(plaintext, key, mode):\n",
    "    # valid key\n",
    "    if set(key) != set(string.ascii_lowercase):\n",
    "        raise ValueError(\"Key must contain all letters of the alphabet.\")\n",
    "\n",
    "    # Create the substitution alphabet\n",
    "    alphabet = string.ascii_lowercase\n",
    "    sub_alphabet = str.maketrans(alphabet, key)\n",
    "\n",
    "    # Encrypt or decrypt the plaintext\n",
    "    if mode == \"encrypt\":\n",
    "        ciphertext = plaintext.lower().translate(sub_alphabet)\n",
    "        return ciphertext\n",
    "    elif mode == \"decrypt\":\n",
    "        plaintext = plaintext.lower().translate(str.maketrans(key, alphabet))\n",
    "        return plaintext\n",
    "    else:\n",
    "        raise ValueError(\"Mode must be either 'encrypt' or 'decrypt'.\")\n",
    "\n",
    "\n",
    "# Example usage\n",
    "plaintext = input('PlainText: ')\n",
    "key = input('The key: ')\n",
    "ciphertext = substitution_cipher(plaintext, key, \"encrypt\")\n",
    "print(\"Ciphertext:\", ciphertext)\n",
    "decrypted_plaintext = substitution_cipher(ciphertext, key, \"decrypt\")\n",
    "print(\"Decrypted plaintext:\", decrypted_plaintext)"
   ]
  }
 ],
 "metadata": {
  "kernelspec": {
   "display_name": "Python 3 (ipykernel)",
   "language": "python",
   "name": "python3"
  },
  "language_info": {
   "codemirror_mode": {
    "name": "ipython",
    "version": 3
   },
   "file_extension": ".py",
   "mimetype": "text/x-python",
   "name": "python",
   "nbconvert_exporter": "python",
   "pygments_lexer": "ipython3",
   "version": "3.11.1"
  }
 },
 "nbformat": 4,
 "nbformat_minor": 5
}
